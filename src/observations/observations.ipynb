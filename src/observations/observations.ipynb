{
 "cells": [
  {
   "cell_type": "code",
   "execution_count": null,
   "metadata": {},
   "outputs": [],
   "source": [
    "import logging\n",
    "from pathlib import Path\n",
    "\n",
    "import cartopy.feature as cfeature\n",
    "import cartopy.crs as ccrs\n",
    "from cartopy.mpl.ticker import LongitudeFormatter, LatitudeFormatter\n",
    "import matplotlib.gridspec as gridspec\n",
    "import cmocean.cm as cmo\n",
    "from matplotlib.patches import Rectangle\n",
    "import numpy as np\n",
    "\n",
    "import matplotlib.pyplot as plt\n",
    "import xarray as xr\n"
   ]
  },
  {
   "cell_type": "code",
   "execution_count": null,
   "metadata": {},
   "outputs": [],
   "source": [
    "base_path = Path(\"/work/n01/n01/fwg/dwbc-proj\")\n",
    "ctd_path = base_path / \"data/raw/ctd_data/cchdo_search_results-1/7_3175MB91_ctd.nc\""
   ]
  },
  {
   "cell_type": "code",
   "execution_count": null,
   "metadata": {},
   "outputs": [],
   "source": [
    "base_path = Path('/work/n01/n01/fwg/dwbc-proj')\n",
    "raw_path = base_path / 'data/raw'\n",
    "processed_path = base_path / 'data/processed'\n",
    "run_suff = \"\"\n",
    "figure_path = base_path / \"figures\"\n",
    "\n",
    "\n",
    "from matplotlib import rc\n",
    "\n",
    "SMALL_SIZE = 8\n",
    "MEDIUM_SIZE = 8\n",
    "BIGGER_SIZE = 8\n",
    "rc('font',**{'family':'sans-serif','sans-serif':['Arial']})\n",
    "plt.rc('font', size=SMALL_SIZE)          # controls default text sizes\n",
    "plt.rc('axes', titlesize=SMALL_SIZE)     # fontsize of the axes title\n",
    "plt.rc('axes', labelsize=MEDIUM_SIZE)    # fontsize of the x and y labels\n",
    "plt.rc('xtick', labelsize=SMALL_SIZE)    # fontsize of the tick labels\n",
    "plt.rc('ytick', labelsize=SMALL_SIZE)    # fontsize of the tick labels\n",
    "plt.rc('legend', fontsize=SMALL_SIZE)    # legend fontsize\n",
    "plt.rc('figure', titlesize=BIGGER_SIZE)  # fontsize of the figure title\n",
    "text_width = 5.5  # in inches\n",
    "\n",
    "cm = 1/2.54\n",
    "dpi = 300"
   ]
  },
  {
   "cell_type": "code",
   "execution_count": null,
   "metadata": {},
   "outputs": [],
   "source": [
    "ds = xr.open_dataset(ctd_path)\n",
    "ds = ds.where(((ds[\"latitude\"] >= -10) * (ds[\"latitude\"] <= 0)\n",
    "               * (ds[\"longitude\"] >= -50) * (ds[\"longitude\"] <= - 30)), drop=True)"
   ]
  },
  {
   "cell_type": "code",
   "execution_count": null,
   "metadata": {},
   "outputs": [],
   "source": [
    "# Open the datasats\n",
    "ds_bathymetry = xr.open_dataset(raw_path / 'GEBCO-bathymetry-data/gebco_2021_n30.0_s-30.0_w-85.0_e-10.0.nc')\n",
    "ds_bathymetry = ds_bathymetry.coarsen(lon=5, lat=5, boundary='trim').mean()\n",
    "ds_climatological_gamma_n = xr.open_dataset(processed_path / 'climatological_gamman.nc', decode_times=False)\n",
    "\n",
    "# Set up the canvas\n",
    "pad = 35\n",
    "fig = plt.figure(figsize=(text_width, 3))#9 * cm))\n",
    "\n",
    "gs = gridspec.GridSpec(2, 2,\n",
    "                        width_ratios=[1, 1],\n",
    "                        height_ratios=[1, 1/16]\n",
    "                        )\n",
    "\n",
    "ax1 = fig.add_subplot(gs[0, 0], projection=ccrs.PlateCarree())\n",
    "\n",
    "# Plot the bathymetry\n",
    "cax_bathy = ax1.pcolormesh(ds_bathymetry['lon'],\n",
    "                            ds_bathymetry['lat'],\n",
    "                            -ds_bathymetry['elevation'],\n",
    "                            shading='nearest',\n",
    "                            rasterized=True,\n",
    "                            cmap=cmo.deep,\n",
    "                            vmin=0\n",
    "                            )\n",
    "\n",
    "# Add some land\n",
    "ax1.add_feature(cfeature.NaturalEarthFeature('physical',\n",
    "                                                'land',\n",
    "                                                '110m',\n",
    "                                                edgecolor='face',\n",
    "                                                facecolor='grey'\n",
    "                                            ))\n",
    "\n",
    "y0 = ds_climatological_gamma_n['lat'].min()\n",
    "ywid = ds_climatological_gamma_n['lat'].max() - y0\n",
    "x0 = ds_climatological_gamma_n['lon'].min()\n",
    "xwid = ds_climatological_gamma_n['lon'].max() - x0\n",
    "ax1.add_patch(Rectangle((x0, y0), xwid, ywid, ec='red', fc='none'))\n",
    "\n",
    "# Axes limits, labels and features\n",
    "ax1.axhline(0, c='k', ls='--')\n",
    "\n",
    "ax1.set_ylim(-12, 30)\n",
    "ax1.set_xlim(-85, -25)\n",
    "\n",
    "ax1.set_xticks(np.arange(-85, -24, 10), crs=ccrs.PlateCarree())\n",
    "ax1.set_yticks(np.arange(-10, 31, 10), crs=ccrs.PlateCarree())\n",
    "lon_formatter = LongitudeFormatter()\n",
    "lat_formatter = LatitudeFormatter()\n",
    "ax1.xaxis.set_major_formatter(lon_formatter)\n",
    "ax1.yaxis.set_major_formatter(lat_formatter)\n",
    "\n",
    "\n",
    "ax1.set_xlabel('Longitude')\n",
    "ax1.set_ylabel('Latitude')\n",
    "ax1.set_title('The Tropical Atlantic')\n",
    "ax1.set_title('(a)', loc='left')\n",
    "\n",
    "# Colorbars\n",
    "cbax1 = fig.add_subplot(gs[1, 0])\n",
    "cb1 = plt.colorbar(cax_bathy, cax=cbax1, label='Depth (m)', orientation='horizontal')\n",
    "\n",
    "# Initial condition plots\n",
    "ax2 = fig.add_subplot(gs[:, 1])\n",
    "\n",
    "\n",
    "ax2.set_title('Temperature staircase')\n",
    "ax2.set_title('(b)', loc='left')\n",
    "ax2.set_xlabel('In-situ temperature ($^\\\\circ$C)', usetex=True)\n",
    "ax2.set_ylabel('Pressure (dBar)')\n",
    "\n",
    "cmo.tempo_r.set_bad('grey')\n",
    "\n",
    "prof = 0\n",
    "ax2.plot(ds[\"ctd_temperature\"].sel(N_PROF=prof),\n",
    "         ds[\"pressure\"].sel(N_PROF=prof), c=\"tab:orange\")\n",
    "\n",
    "ax1.scatter(ds[\"longitude\"].sel(N_PROF=prof),\n",
    "            ds[\"latitude\"].sel(N_PROF=prof), c=\"tab:orange\")\n",
    "    \n",
    "ax2.set_ylim(3500, 2500)\n",
    "ax2.set_xlim(2.4, 3.25)\n",
    "\n",
    "fig.tight_layout()\n",
    "fig.savefig(figure_path / \"FigureS1.pdf\")"
   ]
  },
  {
   "cell_type": "code",
   "execution_count": null,
   "metadata": {},
   "outputs": [],
   "source": [
    "ds"
   ]
  },
  {
   "cell_type": "code",
   "execution_count": null,
   "metadata": {},
   "outputs": [],
   "source": []
  }
 ],
 "metadata": {
  "kernelspec": {
   "display_name": "Python 3.8.5 ('dwbc-proj': venv)",
   "language": "python",
   "name": "python3"
  },
  "language_info": {
   "codemirror_mode": {
    "name": "ipython",
    "version": 3
   },
   "file_extension": ".py",
   "mimetype": "text/x-python",
   "name": "python",
   "nbconvert_exporter": "python",
   "pygments_lexer": "ipython3",
   "version": "3.8.5"
  },
  "orig_nbformat": 4,
  "vscode": {
   "interpreter": {
    "hash": "bc546af1364aeba3768c7b1c83f5a74023900333bc3f48fbe329b4a12edb1c6c"
   }
  }
 },
 "nbformat": 4,
 "nbformat_minor": 2
}
